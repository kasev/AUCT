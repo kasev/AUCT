{
 "cells": [
  {
   "cell_type": "code",
   "execution_count": 2,
   "metadata": {},
   "outputs": [],
   "source": [
    "import re"
   ]
  },
  {
   "cell_type": "code",
   "execution_count": 2,
   "metadata": {},
   "outputs": [],
   "source": [
    "import plotly\n",
    "plotly.tools.set_credentials_file(username='kasev', api_key='nx5IBzqgRmX0ITU6a7Ng')\n"
   ]
  },
  {
   "cell_type": "code",
   "execution_count": 30,
   "metadata": {},
   "outputs": [],
   "source": [
    "variable = \"xxxiii,\""
   ]
  },
  {
   "cell_type": "code",
   "execution_count": 31,
   "metadata": {},
   "outputs": [
    {
     "ename": "AttributeError",
     "evalue": "'NoneType' object has no attribute 'groups'",
     "output_type": "error",
     "traceback": [
      "\u001b[0;31m---------------------------------------------------------------------------\u001b[0m",
      "\u001b[0;31mAttributeError\u001b[0m                            Traceback (most recent call last)",
      "\u001b[0;32m<ipython-input-31-8167f10f5989>\u001b[0m in \u001b[0;36m<module>\u001b[0;34m()\u001b[0m\n\u001b[0;32m----> 1\u001b[0;31m \u001b[0mchapterverse\u001b[0m \u001b[0;34m=\u001b[0m \u001b[0mre\u001b[0m\u001b[0;34m.\u001b[0m\u001b[0msearch\u001b[0m\u001b[0;34m(\u001b[0m\u001b[0;34m'(\\d+)(\\.|\\,|\\:)(\\d+)'\u001b[0m\u001b[0;34m,\u001b[0m \u001b[0mvariable\u001b[0m\u001b[0;34m,\u001b[0m \u001b[0mflags\u001b[0m\u001b[0;34m=\u001b[0m\u001b[0mre\u001b[0m\u001b[0;34m.\u001b[0m\u001b[0mIGNORECASE\u001b[0m\u001b[0;34m)\u001b[0m\u001b[0;34m.\u001b[0m\u001b[0mgroups\u001b[0m\u001b[0;34m(\u001b[0m\u001b[0;34m)\u001b[0m\u001b[0;34m\u001b[0m\u001b[0m\n\u001b[0m",
      "\u001b[0;31mAttributeError\u001b[0m: 'NoneType' object has no attribute 'groups'"
     ]
    }
   ],
   "source": [
    "chapterverse = re.search('(\\d+)(\\.|\\,|\\:)(\\d+)', variable, flags=re.IGNORECASE).groups()"
   ]
  },
  {
   "cell_type": "code",
   "execution_count": 38,
   "metadata": {},
   "outputs": [
    {
     "name": "stdout",
     "output_type": "stream",
     "text": [
      ",\n"
     ]
    }
   ],
   "source": [
    "print(chapterverse)"
   ]
  },
  {
   "cell_type": "code",
   "execution_count": 46,
   "metadata": {},
   "outputs": [],
   "source": [
    "### FUNCTION: replace Roman numbers with arabic\n",
    "\n",
    "def roman_to_int(n):\n",
    "    n = str(n.upper())\n",
    "    numeral_map = zip(\n",
    "        (1000, 900, 500, 400, 100, 90, 50, 40, 10, 9, 5, 4, 1),\n",
    "        ('M', 'CM', 'D', 'CD', 'C', 'XC', 'L', 'XL', 'X', 'IX', 'V', 'IV', 'I')\n",
    "    )\n",
    "    i = 0\n",
    "    result = 0\n",
    "    \n",
    "    for integer, numeral in numeral_map:\n",
    "        while n[i:i + len(numeral)] == numeral:\n",
    "            result += integer\n",
    "            i += len(numeral)\n",
    "    \n",
    "    return result"
   ]
  },
  {
   "cell_type": "code",
   "execution_count": 78,
   "metadata": {},
   "outputs": [
    {
     "name": "stdout",
     "output_type": "stream",
     "text": [
      "Vero V 17,\n"
     ]
    }
   ],
   "source": [
    "### recognize roman\n",
    "word_plus_one = \"Vero V 17,\"\n",
    "found = re.search(r'(^(?=[MDCLXVI])M*(C[MD]|D?C{0,3})(X[CL]|L?X{0,3})(I[XV]|V?I{0,3})(\\b))', word_plus_one, flags=re.IGNORECASE).groups()[0]\n",
    "if not found == \"\":\n",
    "    word_plus_one = word_plus_one.replace(found, str(roman_to_int(found)))\n",
    "\n",
    "\n",
    "\n",
    "\n"
   ]
  },
  {
   "cell_type": "code",
   "execution_count": 58,
   "metadata": {},
   "outputs": [
    {
     "ename": "SyntaxError",
     "evalue": "unexpected EOF while parsing (<ipython-input-58-ca1d7aa62fa9>, line 7)",
     "output_type": "error",
     "traceback": [
      "\u001b[0;36m  File \u001b[0;32m\"<ipython-input-58-ca1d7aa62fa9>\"\u001b[0;36m, line \u001b[0;32m7\u001b[0m\n\u001b[0;31m    \u001b[0m\n\u001b[0m    ^\u001b[0m\n\u001b[0;31mSyntaxError\u001b[0m\u001b[0;31m:\u001b[0m unexpected EOF while parsing\n"
     ]
    }
   ],
   "source": [
    "variable = \"17,5\"\n",
    "try: \n",
    "    chapterverse = re.search('(\\d+)(\\.|\\,|\\:)(\\d+)', word_plus_one, flags=re.IGNORECASE).groups()\n",
    "    word_plus_one = chapterverse[0]\n",
    "    word_plus_two = chapterverse[2]\n",
    "except:\n",
    "    pass\n"
   ]
  },
  {
   "cell_type": "code",
   "execution_count": 80,
   "metadata": {},
   "outputs": [
    {
     "name": "stdout",
     "output_type": "stream",
     "text": [
      "56b\n"
     ]
    }
   ],
   "source": [
    "if not word_plus_one[0].isdigit():\n",
    "    word_plus_one = \"\"\n",
    "else:\n",
    "    word_plus_one = re.search(r'(\\d+)', word_plus_one, flags=re.IGNORECASE).groups()[0] \n",
    "if not word_plus_two[0].isdigit():\n",
    "    word_plus_two = \"\"\n",
    "else:\n",
    "    word_plus_two = re.search(r'((\\d+)(\\-\\d+)?)', word_plus_two, flags=re.IGNORECASE).groups()[0] \n",
    "\n",
    "\n"
   ]
  },
  {
   "cell_type": "code",
   "execution_count": 96,
   "metadata": {},
   "outputs": [
    {
     "data": {
      "text/plain": [
       "'57'"
      ]
     },
     "execution_count": 96,
     "metadata": {},
     "output_type": "execute_result"
    }
   ],
   "source": [
    "word_plus_two = \"57b-58,\"\n",
    "word_plus_two = re.search(r'((\\d+)(\\-\\d+)?)', word_plus_two, flags=re.IGNORECASE).groups()[0] \n",
    "word_plus_two"
   ]
  },
  {
   "cell_type": "code",
   "execution_count": 10,
   "metadata": {},
   "outputs": [
    {
     "data": {
      "text/plain": [
       "['rom_6_12',\n",
       " 'gal_5_17',\n",
       " 'rom_5_5',\n",
       " 'rom_7_22',\n",
       " 'gal_5_18',\n",
       " 'john_4_18',\n",
       " 'rom_7_25',\n",
       " 'mark_14_38',\n",
       " 'rom_8_3',\n",
       " 'job_1_1',\n",
       " 'rom_6_12',\n",
       " 'rom_7_20',\n",
       " 'job_1_1',\n",
       " 'job_34_18',\n",
       " 'john_1_8',\n",
       " 'luke_1_17']"
      ]
     },
     "execution_count": 10,
     "metadata": {},
     "output_type": "execute_result"
    }
   ],
   "source": [
    "string = \"rom_6_12 gal_5_17 gal_5_ rom_5_5 rom_7_22 gal_5_18 john_4_18 rom_7_25 mark_14_38 job__ rom_8_3 job_1_1 job__ job__ rom_6_12 rom_7_20 job_1_1 job_34_18 john_1_8 luke_1_17 luke_1_\"\n",
    "\n",
    "book_chapter_verse = re.findall(r'\\w+\\_\\d+\\_\\d+', string)\n",
    "book_chapter_verse"
   ]
  },
  {
   "cell_type": "code",
   "execution_count": 14,
   "metadata": {},
   "outputs": [
    {
     "data": {
      "text/plain": [
       "['rom_6_',\n",
       " 'gal_5_',\n",
       " 'gal_5_',\n",
       " 'rom_5_',\n",
       " 'rom_7_',\n",
       " 'gal_5_',\n",
       " 'john_4_',\n",
       " 'rom_7_',\n",
       " 'mark_14_',\n",
       " 'rom_8_',\n",
       " 'job_1_',\n",
       " 'rom_6_',\n",
       " 'rom_7_',\n",
       " 'job_1_',\n",
       " 'job_34_',\n",
       " 'john_1_',\n",
       " 'luke_1_',\n",
       " 'luke_1_']"
      ]
     },
     "execution_count": 14,
     "metadata": {},
     "output_type": "execute_result"
    }
   ],
   "source": [
    "book_chapter_only = re.findall(r'\\w+\\_\\d+\\_', string)\n",
    "book_chapter_only\n"
   ]
  },
  {
   "cell_type": "code",
   "execution_count": 13,
   "metadata": {},
   "outputs": [
    {
     "data": {
      "text/plain": [
       "['job__', 'job__', 'job__']"
      ]
     },
     "execution_count": 13,
     "metadata": {},
     "output_type": "execute_result"
    }
   ],
   "source": [
    "book_only = re.findall(r'\\w+\\_\\_\\b', string)\n",
    "book_only"
   ]
  },
  {
   "cell_type": "code",
   "execution_count": 62,
   "metadata": {},
   "outputs": [
    {
     "name": "stdout",
     "output_type": "stream",
     "text": [
      "5\n",
      "6\n",
      "7\n",
      "8\n",
      "9\n",
      "10\n",
      "11\n",
      "12\n",
      "13\n",
      "14\n",
      "15\n"
     ]
    }
   ],
   "source": [
    "\n",
    "more_verses = re.match(r'(\\d+)(\\-)(\\d+)', word_plus_two)\n",
    "if more_verses is not None:\n",
    "    beginning = int(more_verses.groups()[0])\n",
    "    end = int(more_verses.groups()[2])\n",
    "    while (beginning <= end):\n",
    "        print(beginning)\n",
    "        beginning = beginning + 1"
   ]
  },
  {
   "cell_type": "code",
   "execution_count": 58,
   "metadata": {},
   "outputs": [
    {
     "data": {
      "text/plain": [
       "26"
      ]
     },
     "execution_count": 58,
     "metadata": {},
     "output_type": "execute_result"
    }
   ],
   "source": [
    "beginning + end"
   ]
  },
  {
   "cell_type": "code",
   "execution_count": 59,
   "metadata": {},
   "outputs": [
    {
     "name": "stdout",
     "output_type": "stream",
     "text": [
      "gen_7_ 5\n",
      "gen_7_ 6\n",
      "gen_7_ 7\n",
      "gen_7_ 8\n",
      "gen_7_ 9\n",
      "gen_7_ 10\n",
      "gen_7_ 11\n",
      "gen_7_ 12\n",
      "gen_7_ 13\n",
      "gen_7_ 14\n",
      "gen_7_ 15\n",
      "gen_7_ 16\n",
      "gen_7_ 17\n",
      "gen_7_ 18\n",
      "gen_7_ 19\n",
      "gen_7_ 20\n",
      "gen_7_ 21\n"
     ]
    }
   ],
   "source": [
    "while (beginning <= end):\n",
    "    print(string, beginning)\n",
    "    beginning = beginning + 1\n",
    "    "
   ]
  },
  {
   "cell_type": "code",
   "execution_count": null,
   "metadata": {},
   "outputs": [],
   "source": []
  },
  {
   "cell_type": "code",
   "execution_count": null,
   "metadata": {},
   "outputs": [],
   "source": []
  }
 ],
 "metadata": {
  "kernelspec": {
   "display_name": "Python 3",
   "language": "python",
   "name": "python3"
  },
  "language_info": {
   "codemirror_mode": {
    "name": "ipython",
    "version": 3
   },
   "file_extension": ".py",
   "mimetype": "text/x-python",
   "name": "python",
   "nbconvert_exporter": "python",
   "pygments_lexer": "ipython3",
   "version": "3.6.5"
  }
 },
 "nbformat": 4,
 "nbformat_minor": 2
}
