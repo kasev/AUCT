{
 "cells": [
  {
   "cell_type": "code",
   "execution_count": 4,
   "metadata": {
    "colab": {
     "base_uri": "https://localhost:8080/",
     "height": 34
    },
    "colab_type": "code",
    "executionInfo": {
     "elapsed": 4833,
     "status": "ok",
     "timestamp": 1556027548614,
     "user": {
      "displayName": "Vojtěch Kaše",
      "photoUrl": "https://lh5.googleusercontent.com/-uqMPkXXDAQA/AAAAAAAAAAI/AAAAAAAAIV0/l_yiWUkr2OU/s64/photo.jpg",
      "userId": "01399835024022498543"
     },
     "user_tz": -120
    },
    "id": "93BZLNrv7KbD",
    "outputId": "f7fa2442-162e-4d81-9f3a-e7d16c3554e2"
   },
   "outputs": [],
   "source": [
    "### Prerequisties\n",
    "# most of the packages are available via anaconda\n",
    "# some of them require to be installed separately\n",
    "\n",
    "# some of the packages (especially nltk) are necessary only for preprocessing\n",
    "# feel free to ignore them and move directly into later sections\n",
    "\n",
    "import os\n",
    "import pandas as pd\n",
    "import numpy as np\n",
    "import nltk\n",
    "import pickle\n",
    "import json\n",
    "import sys\n",
    "import re\n",
    "\n",
    "import csv\n",
    "from bs4 import BeautifulSoup\n",
    "import xml.etree.cElementTree as ET\n",
    "\n",
    "from gensim import corpora, models, similarities\n",
    "### drawing on a basic tutorial: https://radimrehurek.com/gensim/tut1.html#corpus-streaming-one-document-at-a-time\n",
    "### we use it here basically only for generating the vector model\n",
    "\n",
    "import numpy as np \n",
    "from sklearn.feature_extraction.text import CountVectorizer\n",
    "\n",
    "### for plotting\n",
    "import matplotlib.pyplot as plt\n",
    "### import cufflinks as cf - to connect plotly and pandas\n",
    "\n",
    "import gspread\n",
    "from gspread_dataframe import get_as_dataframe, set_with_dataframe\n",
    "\n",
    "\n",
    "from google.oauth2 import service_account # based on google-auth library\n",
    "import sddk\n",
    "# a few other packages are imported in the section on visualizing distances"
   ]
  },
  {
   "cell_type": "code",
   "execution_count": 5,
   "metadata": {},
   "outputs": [
    {
     "name": "stdout",
     "output_type": "stream",
     "text": [
      "sciencedata.dk username (format '123456@au.dk'): 648597@au.dk\n",
      "sciencedata.dk password: ········\n",
      "endpoint variable has been configured to: https://sciencedata.dk/files/\n"
     ]
    }
   ],
   "source": [
    "conf = sddk.configure()"
   ]
  },
  {
   "cell_type": "code",
   "execution_count": 6,
   "metadata": {},
   "outputs": [],
   "source": [
    "# to access gsheet, you need Google Service Account key json file\n",
    "# I have mine located in my personal space on sciencedata.dk, so I read it from there:\n",
    "\n",
    "# (1) read the file and parse its content\n",
    "file_data = conf[0].get(conf[1] + \"ServiceAccountsKey.json\").json()\n",
    "# (2) transform the content into crendentials object\n",
    "credentials = service_account.Credentials.from_service_account_info(file_data)\n",
    "# (3) specify your usage of the credentials\n",
    "scoped_credentials = credentials.with_scopes(['https://spreadsheets.google.com/feeds', 'https://www.googleapis.com/auth/drive'])\n",
    "# (4) use the constrained credentials for authentication of gspread package\n",
    "gc = gspread.Client(auth=scoped_credentials)\n",
    "# (5) establish connection with spreadsheets specified by their url"
   ]
  },
  {
   "cell_type": "code",
   "execution_count": 7,
   "metadata": {},
   "outputs": [
    {
     "data": {
      "text/html": [
       "<div>\n",
       "<style scoped>\n",
       "    .dataframe tbody tr th:only-of-type {\n",
       "        vertical-align: middle;\n",
       "    }\n",
       "\n",
       "    .dataframe tbody tr th {\n",
       "        vertical-align: top;\n",
       "    }\n",
       "\n",
       "    .dataframe thead th {\n",
       "        text-align: right;\n",
       "    }\n",
       "</style>\n",
       "<table border=\"1\" class=\"dataframe\">\n",
       "  <thead>\n",
       "    <tr style=\"text-align: right;\">\n",
       "      <th></th>\n",
       "      <th>ID</th>\n",
       "      <th>Author</th>\n",
       "      <th>ID_stoa</th>\n",
       "      <th>Honorific</th>\n",
       "      <th>Date of birth</th>\n",
       "      <th>Date of death</th>\n",
       "      <th>Active period middle</th>\n",
       "      <th>Activity date approximate</th>\n",
       "      <th>Active since</th>\n",
       "      <th>Active until</th>\n",
       "      <th>...</th>\n",
       "      <th>Unnamed: 20</th>\n",
       "      <th>Unnamed: 21</th>\n",
       "      <th>Unnamed: 22</th>\n",
       "      <th>Unnamed: 23</th>\n",
       "      <th>Unnamed: 24</th>\n",
       "      <th>Unnamed: 25</th>\n",
       "      <th>Unnamed: 26</th>\n",
       "      <th>Unnamed: 27</th>\n",
       "      <th>Unnamed: 28</th>\n",
       "      <th>Unnamed: 29</th>\n",
       "    </tr>\n",
       "  </thead>\n",
       "  <tbody>\n",
       "    <tr>\n",
       "      <th>0</th>\n",
       "      <td>1.0</td>\n",
       "      <td>Adamnan</td>\n",
       "      <td>stoa0007</td>\n",
       "      <td>saint</td>\n",
       "      <td>625</td>\n",
       "      <td>704</td>\n",
       "      <td>=ROUND((E2+20+F2)/2, 2)</td>\n",
       "      <td>NaN</td>\n",
       "      <td>NaN</td>\n",
       "      <td>NaN</td>\n",
       "      <td>...</td>\n",
       "      <td>NaN</td>\n",
       "      <td>NaN</td>\n",
       "      <td>NaN</td>\n",
       "      <td>NaN</td>\n",
       "      <td>NaN</td>\n",
       "      <td>NaN</td>\n",
       "      <td>NaN</td>\n",
       "      <td>NaN</td>\n",
       "      <td>NaN</td>\n",
       "      <td>NaN</td>\n",
       "    </tr>\n",
       "    <tr>\n",
       "      <th>1</th>\n",
       "      <td>10.0</td>\n",
       "      <td>Cyprian of Carthage</td>\n",
       "      <td>stoa0104a</td>\n",
       "      <td>saint</td>\n",
       "      <td>200</td>\n",
       "      <td>258</td>\n",
       "      <td>=(E3+20+F3)/2</td>\n",
       "      <td>NaN</td>\n",
       "      <td>NaN</td>\n",
       "      <td>NaN</td>\n",
       "      <td>...</td>\n",
       "      <td>NaN</td>\n",
       "      <td>NaN</td>\n",
       "      <td>NaN</td>\n",
       "      <td>NaN</td>\n",
       "      <td>NaN</td>\n",
       "      <td>NaN</td>\n",
       "      <td>NaN</td>\n",
       "      <td>NaN</td>\n",
       "      <td>NaN</td>\n",
       "      <td>NaN</td>\n",
       "    </tr>\n",
       "    <tr>\n",
       "      <th>2</th>\n",
       "      <td>11.0</td>\n",
       "      <td>Cyprianus Gallus</td>\n",
       "      <td>stoa0104c</td>\n",
       "      <td>NaN</td>\n",
       "      <td>397</td>\n",
       "      <td>430</td>\n",
       "      <td>=(E4+20+F4)/2</td>\n",
       "      <td>NaN</td>\n",
       "      <td>NaN</td>\n",
       "      <td>NaN</td>\n",
       "      <td>...</td>\n",
       "      <td>NaN</td>\n",
       "      <td>NaN</td>\n",
       "      <td>NaN</td>\n",
       "      <td>NaN</td>\n",
       "      <td>NaN</td>\n",
       "      <td>NaN</td>\n",
       "      <td>NaN</td>\n",
       "      <td>NaN</td>\n",
       "      <td>NaN</td>\n",
       "      <td>NaN</td>\n",
       "    </tr>\n",
       "    <tr>\n",
       "      <th>3</th>\n",
       "      <td>12.0</td>\n",
       "      <td>Ennodius Magnus Felix</td>\n",
       "      <td>stoa0114a</td>\n",
       "      <td>saint</td>\n",
       "      <td>474</td>\n",
       "      <td>521</td>\n",
       "      <td>=(E5+20+F5)/2</td>\n",
       "      <td>NaN</td>\n",
       "      <td>NaN</td>\n",
       "      <td>NaN</td>\n",
       "      <td>...</td>\n",
       "      <td>NaN</td>\n",
       "      <td>NaN</td>\n",
       "      <td>NaN</td>\n",
       "      <td>NaN</td>\n",
       "      <td>NaN</td>\n",
       "      <td>NaN</td>\n",
       "      <td>NaN</td>\n",
       "      <td>NaN</td>\n",
       "      <td>NaN</td>\n",
       "      <td>NaN</td>\n",
       "    </tr>\n",
       "    <tr>\n",
       "      <th>4</th>\n",
       "      <td>13.0</td>\n",
       "      <td>Eucherius of Lyon</td>\n",
       "      <td>stoa0117</td>\n",
       "      <td>saint</td>\n",
       "      <td>380</td>\n",
       "      <td>449</td>\n",
       "      <td>=(E6+20+F6)/2</td>\n",
       "      <td>NaN</td>\n",
       "      <td>NaN</td>\n",
       "      <td>NaN</td>\n",
       "      <td>...</td>\n",
       "      <td>NaN</td>\n",
       "      <td>NaN</td>\n",
       "      <td>NaN</td>\n",
       "      <td>NaN</td>\n",
       "      <td>NaN</td>\n",
       "      <td>NaN</td>\n",
       "      <td>NaN</td>\n",
       "      <td>NaN</td>\n",
       "      <td>NaN</td>\n",
       "      <td>NaN</td>\n",
       "    </tr>\n",
       "  </tbody>\n",
       "</table>\n",
       "<p>5 rows × 30 columns</p>\n",
       "</div>"
      ],
      "text/plain": [
       "     ID                  Author    ID_stoa Honorific Date of birth  \\\n",
       "0   1.0                 Adamnan   stoa0007     saint           625   \n",
       "1  10.0     Cyprian of Carthage  stoa0104a     saint           200   \n",
       "2  11.0       Cyprianus Gallus   stoa0104c       NaN           397   \n",
       "3  12.0  Ennodius Magnus Felix   stoa0114a     saint           474   \n",
       "4  13.0      Eucherius of Lyon    stoa0117     saint           380   \n",
       "\n",
       "  Date of death     Active period middle Activity date approximate  \\\n",
       "0           704  =ROUND((E2+20+F2)/2, 2)                       NaN   \n",
       "1           258            =(E3+20+F3)/2                       NaN   \n",
       "2           430            =(E4+20+F4)/2                       NaN   \n",
       "3           521            =(E5+20+F5)/2                       NaN   \n",
       "4           449            =(E6+20+F6)/2                       NaN   \n",
       "\n",
       "  Active since Active until  ... Unnamed: 20  Unnamed: 21  Unnamed: 22  \\\n",
       "0          NaN          NaN  ...         NaN          NaN          NaN   \n",
       "1          NaN          NaN  ...         NaN          NaN          NaN   \n",
       "2          NaN          NaN  ...         NaN          NaN          NaN   \n",
       "3          NaN          NaN  ...         NaN          NaN          NaN   \n",
       "4          NaN          NaN  ...         NaN          NaN          NaN   \n",
       "\n",
       "   Unnamed: 23  Unnamed: 24  Unnamed: 25  Unnamed: 26  Unnamed: 27  \\\n",
       "0          NaN          NaN          NaN          NaN          NaN   \n",
       "1          NaN          NaN          NaN          NaN          NaN   \n",
       "2          NaN          NaN          NaN          NaN          NaN   \n",
       "3          NaN          NaN          NaN          NaN          NaN   \n",
       "4          NaN          NaN          NaN          NaN          NaN   \n",
       "\n",
       "   Unnamed: 28  Unnamed: 29  \n",
       "0          NaN          NaN  \n",
       "1          NaN          NaN  \n",
       "2          NaN          NaN  \n",
       "3          NaN          NaN  \n",
       "4          NaN          NaN  \n",
       "\n",
       "[5 rows x 30 columns]"
      ]
     },
     "execution_count": 7,
     "metadata": {},
     "output_type": "execute_result"
    }
   ],
   "source": [
    "CSEL_authors_JK = get_as_dataframe(gc.open_by_url(\"https://docs.google.com/spreadsheets/d/1F9EKced2JVW4a34Wu3XYLZ-kaZGP6Qt3Nh0GQjdp3to/edit?usp=sharing\").worksheet(\"Authors\"))\n",
    "CSEL_authors_JK.head(5)"
   ]
  },
  {
   "cell_type": "code",
   "execution_count": 10,
   "metadata": {},
   "outputs": [
    {
     "data": {
      "text/html": [
       "<div>\n",
       "<style scoped>\n",
       "    .dataframe tbody tr th:only-of-type {\n",
       "        vertical-align: middle;\n",
       "    }\n",
       "\n",
       "    .dataframe tbody tr th {\n",
       "        vertical-align: top;\n",
       "    }\n",
       "\n",
       "    .dataframe thead th {\n",
       "        text-align: right;\n",
       "    }\n",
       "</style>\n",
       "<table border=\"1\" class=\"dataframe\">\n",
       "  <thead>\n",
       "    <tr style=\"text-align: right;\">\n",
       "      <th></th>\n",
       "      <th>0</th>\n",
       "      <th>1</th>\n",
       "    </tr>\n",
       "  </thead>\n",
       "  <tbody>\n",
       "    <tr>\n",
       "      <th>0</th>\n",
       "      <td>Gn</td>\n",
       "      <td>Gen.</td>\n",
       "    </tr>\n",
       "    <tr>\n",
       "      <th>1</th>\n",
       "      <td>Genes.</td>\n",
       "      <td>Gen.</td>\n",
       "    </tr>\n",
       "    <tr>\n",
       "      <th>2</th>\n",
       "      <td>Ex.</td>\n",
       "      <td>Exo.</td>\n",
       "    </tr>\n",
       "    <tr>\n",
       "      <th>3</th>\n",
       "      <td>Lv.</td>\n",
       "      <td>Lev.</td>\n",
       "    </tr>\n",
       "    <tr>\n",
       "      <th>4</th>\n",
       "      <td>Nm.</td>\n",
       "      <td>Num.</td>\n",
       "    </tr>\n",
       "  </tbody>\n",
       "</table>\n",
       "</div>"
      ],
      "text/plain": [
       "        0      1\n",
       "0     Gn   Gen. \n",
       "1  Genes.   Gen.\n",
       "2     Ex.   Exo.\n",
       "3     Lv.   Lev.\n",
       "4     Nm.   Num."
      ]
     },
     "execution_count": 10,
     "metadata": {},
     "output_type": "execute_result"
    }
   ],
   "source": [
    "### upload my own (VK) biblical abbreviatians as a tuple\n",
    "\n",
    "abbr_kase_df = get_as_dataframe(gc.open_by_url('https://docs.google.com/spreadsheets/d/1vWUsY1moh6b5A27YDxPSuibayXNLRUV97Hz9TICyBBo/edit?usp=sharing').worksheet(\"replace_abbr\"))\n",
    "abbr_kase_df.head(5)"
   ]
  },
  {
   "cell_type": "code",
   "execution_count": null,
   "metadata": {},
   "outputs": [],
   "source": [
    "repl_tuple_VK = list(abbr_kase_df.itertuples(index=False, name=None))\n",
    "print(repl_tuple_VK)"
   ]
  },
  {
   "cell_type": "code",
   "execution_count": null,
   "metadata": {},
   "outputs": [],
   "source": []
  },
  {
   "cell_type": "code",
   "execution_count": 0,
   "metadata": {
    "colab": {},
    "colab_type": "code",
    "id": "ts1uMgkCM2GX"
   },
   "outputs": [],
   "source": [
    "### to work with GoogleSheets\n",
    "\n",
    "from google.colab import auth\n",
    "auth.authenticate_user()\n",
    "from oauth2client.client import GoogleCredentials\n",
    "\n",
    "gc = gspread.authorize(GoogleCredentials.get_application_default())"
   ]
  },
  {
   "cell_type": "code",
   "execution_count": 11,
   "metadata": {
    "colab": {
     "base_uri": "https://localhost:8080/",
     "height": 255
    },
    "colab_type": "code",
    "executionInfo": {
     "elapsed": 1633,
     "status": "ok",
     "timestamp": 1556034363247,
     "user": {
      "displayName": "Vojtěch Kaše",
      "photoUrl": "https://lh5.googleusercontent.com/-uqMPkXXDAQA/AAAAAAAAAAI/AAAAAAAAIV0/l_yiWUkr2OU/s64/photo.jpg",
      "userId": "01399835024022498543"
     },
     "user_tz": -120
    },
    "id": "dOBNMUl5rS4y",
    "outputId": "f02c0593-df61-460c-f657-bcd6ca3e9c48"
   },
   "outputs": [],
   "source": [
    "### path in the VK drive - other users have to modify accordingly...\n",
    "\n",
    "CSEL_raw_df = sddk.read_file(\"AUCT/data/CSEL_raw.csv\", \"df\", conf)\n",
    "#names=[\"file_name\", \"author_from_xml_tag\", \"title\", \"volume\",\"text\"])\n",
    "CSEL_raw_df.head(5)"
   ]
  },
  {
   "cell_type": "code",
   "execution_count": 0,
   "metadata": {
    "colab": {
     "base_uri": "https://localhost:8080/",
     "height": 426
    },
    "colab_type": "code",
    "executionInfo": {
     "elapsed": 1384,
     "status": "ok",
     "timestamp": 1556034393973,
     "user": {
      "displayName": "Vojtěch Kaše",
      "photoUrl": "https://lh5.googleusercontent.com/-uqMPkXXDAQA/AAAAAAAAAAI/AAAAAAAAIV0/l_yiWUkr2OU/s64/photo.jpg",
      "userId": "01399835024022498543"
     },
     "user_tz": -120
    },
    "id": "rIn7JolbHIIT",
    "outputId": "24bf75a5-812d-4b1c-a0de-5cb70b7b3b84"
   },
   "outputs": [
    {
     "data": {
      "text/html": [
       "<div>\n",
       "<style scoped>\n",
       "    .dataframe tbody tr th:only-of-type {\n",
       "        vertical-align: middle;\n",
       "    }\n",
       "\n",
       "    .dataframe tbody tr th {\n",
       "        vertical-align: top;\n",
       "    }\n",
       "\n",
       "    .dataframe thead th {\n",
       "        text-align: right;\n",
       "    }\n",
       "</style>\n",
       "<table border=\"1\" class=\"dataframe\">\n",
       "  <thead>\n",
       "    <tr style=\"text-align: right;\">\n",
       "      <th></th>\n",
       "      <th>ID</th>\n",
       "      <th>Author</th>\n",
       "      <th>ID_stoa</th>\n",
       "      <th>Honorific</th>\n",
       "      <th>Date of birth</th>\n",
       "      <th>Date of death</th>\n",
       "      <th>Active period middle</th>\n",
       "      <th>Activity date approximate</th>\n",
       "      <th>Active since</th>\n",
       "      <th>Active until</th>\n",
       "      <th>...</th>\n",
       "      <th>Unnamed: 20</th>\n",
       "      <th>Unnamed: 21</th>\n",
       "      <th>Unnamed: 22</th>\n",
       "      <th>Unnamed: 23</th>\n",
       "      <th>Unnamed: 24</th>\n",
       "      <th>Unnamed: 25</th>\n",
       "      <th>Unnamed: 26</th>\n",
       "      <th>Unnamed: 27</th>\n",
       "      <th>Unnamed: 28</th>\n",
       "      <th>Unnamed: 29</th>\n",
       "    </tr>\n",
       "  </thead>\n",
       "  <tbody>\n",
       "    <tr>\n",
       "      <th>0</th>\n",
       "      <td>1.0</td>\n",
       "      <td>Adamnan</td>\n",
       "      <td>stoa0007</td>\n",
       "      <td>saint</td>\n",
       "      <td>625</td>\n",
       "      <td>704</td>\n",
       "      <td>=(E2+20+F2)/2</td>\n",
       "      <td>NaN</td>\n",
       "      <td>NaN</td>\n",
       "      <td>NaN</td>\n",
       "      <td>...</td>\n",
       "      <td>NaN</td>\n",
       "      <td>NaN</td>\n",
       "      <td>NaN</td>\n",
       "      <td>NaN</td>\n",
       "      <td>NaN</td>\n",
       "      <td>NaN</td>\n",
       "      <td>NaN</td>\n",
       "      <td>NaN</td>\n",
       "      <td>NaN</td>\n",
       "      <td>NaN</td>\n",
       "    </tr>\n",
       "    <tr>\n",
       "      <th>1</th>\n",
       "      <td>10.0</td>\n",
       "      <td>Cyprian of Carthage</td>\n",
       "      <td>stoa0104a</td>\n",
       "      <td>saint</td>\n",
       "      <td>200</td>\n",
       "      <td>258</td>\n",
       "      <td>=(E3+20+F3)/2</td>\n",
       "      <td>NaN</td>\n",
       "      <td>NaN</td>\n",
       "      <td>NaN</td>\n",
       "      <td>...</td>\n",
       "      <td>NaN</td>\n",
       "      <td>NaN</td>\n",
       "      <td>NaN</td>\n",
       "      <td>NaN</td>\n",
       "      <td>NaN</td>\n",
       "      <td>NaN</td>\n",
       "      <td>NaN</td>\n",
       "      <td>NaN</td>\n",
       "      <td>NaN</td>\n",
       "      <td>NaN</td>\n",
       "    </tr>\n",
       "    <tr>\n",
       "      <th>2</th>\n",
       "      <td>11.0</td>\n",
       "      <td>Cyprianus Gallus</td>\n",
       "      <td>stoa0104c</td>\n",
       "      <td>NaN</td>\n",
       "      <td>397</td>\n",
       "      <td>430</td>\n",
       "      <td>=(E4+20+F4)/2</td>\n",
       "      <td>NaN</td>\n",
       "      <td>NaN</td>\n",
       "      <td>NaN</td>\n",
       "      <td>...</td>\n",
       "      <td>NaN</td>\n",
       "      <td>NaN</td>\n",
       "      <td>NaN</td>\n",
       "      <td>NaN</td>\n",
       "      <td>NaN</td>\n",
       "      <td>NaN</td>\n",
       "      <td>NaN</td>\n",
       "      <td>NaN</td>\n",
       "      <td>NaN</td>\n",
       "      <td>NaN</td>\n",
       "    </tr>\n",
       "    <tr>\n",
       "      <th>3</th>\n",
       "      <td>12.0</td>\n",
       "      <td>Ennodius Magnus Felix</td>\n",
       "      <td>stoa0114a</td>\n",
       "      <td>saint</td>\n",
       "      <td>474</td>\n",
       "      <td>521</td>\n",
       "      <td>=(E5+20+F5)/2</td>\n",
       "      <td>NaN</td>\n",
       "      <td>NaN</td>\n",
       "      <td>NaN</td>\n",
       "      <td>...</td>\n",
       "      <td>NaN</td>\n",
       "      <td>NaN</td>\n",
       "      <td>NaN</td>\n",
       "      <td>NaN</td>\n",
       "      <td>NaN</td>\n",
       "      <td>NaN</td>\n",
       "      <td>NaN</td>\n",
       "      <td>NaN</td>\n",
       "      <td>NaN</td>\n",
       "      <td>NaN</td>\n",
       "    </tr>\n",
       "    <tr>\n",
       "      <th>4</th>\n",
       "      <td>13.0</td>\n",
       "      <td>Eucherius of Lyon</td>\n",
       "      <td>stoa0117</td>\n",
       "      <td>saint</td>\n",
       "      <td>380</td>\n",
       "      <td>449</td>\n",
       "      <td>=(E6+20+F6)/2</td>\n",
       "      <td>NaN</td>\n",
       "      <td>NaN</td>\n",
       "      <td>NaN</td>\n",
       "      <td>...</td>\n",
       "      <td>NaN</td>\n",
       "      <td>NaN</td>\n",
       "      <td>NaN</td>\n",
       "      <td>NaN</td>\n",
       "      <td>NaN</td>\n",
       "      <td>NaN</td>\n",
       "      <td>NaN</td>\n",
       "      <td>NaN</td>\n",
       "      <td>NaN</td>\n",
       "      <td>NaN</td>\n",
       "    </tr>\n",
       "  </tbody>\n",
       "</table>\n",
       "<p>5 rows × 30 columns</p>\n",
       "</div>"
      ],
      "text/plain": [
       "     ID                  Author    ID_stoa Honorific Date of birth  \\\n",
       "0   1.0                 Adamnan   stoa0007     saint           625   \n",
       "1  10.0     Cyprian of Carthage  stoa0104a     saint           200   \n",
       "2  11.0       Cyprianus Gallus   stoa0104c       NaN           397   \n",
       "3  12.0  Ennodius Magnus Felix   stoa0114a     saint           474   \n",
       "4  13.0      Eucherius of Lyon    stoa0117     saint           380   \n",
       "\n",
       "  Date of death Active period middle Activity date approximate Active since  \\\n",
       "0           704        =(E2+20+F2)/2                       NaN          NaN   \n",
       "1           258        =(E3+20+F3)/2                       NaN          NaN   \n",
       "2           430        =(E4+20+F4)/2                       NaN          NaN   \n",
       "3           521        =(E5+20+F5)/2                       NaN          NaN   \n",
       "4           449        =(E6+20+F6)/2                       NaN          NaN   \n",
       "\n",
       "  Active until  ... Unnamed: 20  Unnamed: 21  Unnamed: 22  Unnamed: 23  \\\n",
       "0          NaN  ...         NaN          NaN          NaN          NaN   \n",
       "1          NaN  ...         NaN          NaN          NaN          NaN   \n",
       "2          NaN  ...         NaN          NaN          NaN          NaN   \n",
       "3          NaN  ...         NaN          NaN          NaN          NaN   \n",
       "4          NaN  ...         NaN          NaN          NaN          NaN   \n",
       "\n",
       "   Unnamed: 24  Unnamed: 25  Unnamed: 26  Unnamed: 27  Unnamed: 28  \\\n",
       "0          NaN          NaN          NaN          NaN          NaN   \n",
       "1          NaN          NaN          NaN          NaN          NaN   \n",
       "2          NaN          NaN          NaN          NaN          NaN   \n",
       "3          NaN          NaN          NaN          NaN          NaN   \n",
       "4          NaN          NaN          NaN          NaN          NaN   \n",
       "\n",
       "   Unnamed: 29  \n",
       "0          NaN  \n",
       "1          NaN  \n",
       "2          NaN  \n",
       "3          NaN  \n",
       "4          NaN  \n",
       "\n",
       "[5 rows x 30 columns]"
      ]
     },
     "execution_count": 69,
     "metadata": {
      "tags": []
     },
     "output_type": "execute_result"
    }
   ],
   "source": [
    "### authors from JarKub\n",
    "CSEL_authors_JK = get_as_dataframe(gc.open_by_url(\"https://docs.google.com/spreadsheets/d/1F9EKced2JVW4a34Wu3XYLZ-kaZGP6Qt3Nh0GQjdp3to/edit?usp=sharing\").worksheet(\"Authors\"))\n",
    "CSEL_authors_JK.head(5)"
   ]
  },
  {
   "cell_type": "code",
   "execution_count": 0,
   "metadata": {
    "colab": {},
    "colab_type": "code",
    "id": "b9-81oy7eqHk"
   },
   "outputs": [],
   "source": [
    "### adding Kuben's author names to our data\n",
    "\n",
    "def author_from_file_name(file_name):\n",
    "  try:\n",
    "    author = CSEL_authors_JK.loc[CSEL_authors_JK[\"ID_stoa\"]==file_name.partition(\".\")[0], \"Author\"].values[0]\n",
    "  except:\n",
    "    author = \"unknown\" \n",
    "  return author\n",
    "CSEL_raw_df[\"author\"] = CSEL_raw_df.apply(lambda row: author_from_file_name(row[\"file_name\"]) , axis=1)\n"
   ]
  },
  {
   "cell_type": "code",
   "execution_count": 0,
   "metadata": {
    "colab": {
     "base_uri": "https://localhost:8080/",
     "height": 80
    },
    "colab_type": "code",
    "executionInfo": {
     "elapsed": 523,
     "status": "ok",
     "timestamp": 1556028580328,
     "user": {
      "displayName": "Vojtěch Kaše",
      "photoUrl": "https://lh5.googleusercontent.com/-uqMPkXXDAQA/AAAAAAAAAAI/AAAAAAAAIV0/l_yiWUkr2OU/s64/photo.jpg",
      "userId": "01399835024022498543"
     },
     "user_tz": -120
    },
    "id": "UqxmJMc4RWp8",
    "outputId": "59546947-e654-4794-b68f-41691f337acc"
   },
   "outputs": [
    {
     "data": {
      "text/html": [
       "<div>\n",
       "<style scoped>\n",
       "    .dataframe tbody tr th:only-of-type {\n",
       "        vertical-align: middle;\n",
       "    }\n",
       "\n",
       "    .dataframe tbody tr th {\n",
       "        vertical-align: top;\n",
       "    }\n",
       "\n",
       "    .dataframe thead th {\n",
       "        text-align: right;\n",
       "    }\n",
       "</style>\n",
       "<table border=\"1\" class=\"dataframe\">\n",
       "  <thead>\n",
       "    <tr style=\"text-align: right;\">\n",
       "      <th></th>\n",
       "      <th>file_name</th>\n",
       "      <th>author_from_xml_tag</th>\n",
       "      <th>title</th>\n",
       "      <th>volume</th>\n",
       "      <th>text</th>\n",
       "      <th>author</th>\n",
       "    </tr>\n",
       "  </thead>\n",
       "  <tbody>\n",
       "    <tr>\n",
       "      <th>243</th>\n",
       "      <td>stoa0076c.stoa001.opp-lat2.xml</td>\n",
       "      <td>Iohannes Cassianus</td>\n",
       "      <td>Conlationes</td>\n",
       "      <td>unknown</td>\n",
       "      <td>\\n\\n\\n\\n\\nPRAEFATIO. \\n\\n\\nDebitum, quod beati...</td>\n",
       "      <td>Cassian John</td>\n",
       "    </tr>\n",
       "  </tbody>\n",
       "</table>\n",
       "</div>"
      ],
      "text/plain": [
       "                          file_name author_from_xml_tag        title   volume  \\\n",
       "243  stoa0076c.stoa001.opp-lat2.xml  Iohannes Cassianus  Conlationes  unknown   \n",
       "\n",
       "                                                  text         author  \n",
       "243  \\n\\n\\n\\n\\nPRAEFATIO. \\n\\n\\nDebitum, quod beati...  Cassian John   "
      ]
     },
     "execution_count": 21,
     "metadata": {
      "tags": []
     },
     "output_type": "execute_result"
    }
   ],
   "source": [
    "# one file for testing purposes, let's extract one file\n",
    "\n",
    "one_text_df = CSEL_raw_df[CSEL_raw_df[\"file_name\"]==\"stoa0076c.stoa001.opp-lat2.xml\"].copy()\n",
    "one_text_df"
   ]
  },
  {
   "cell_type": "code",
   "execution_count": 0,
   "metadata": {
    "colab": {
     "base_uri": "https://localhost:8080/",
     "height": 74
    },
    "colab_type": "code",
    "executionInfo": {
     "elapsed": 1571,
     "status": "ok",
     "timestamp": 1556028592708,
     "user": {
      "displayName": "Vojtěch Kaše",
      "photoUrl": "https://lh5.googleusercontent.com/-uqMPkXXDAQA/AAAAAAAAAAI/AAAAAAAAIV0/l_yiWUkr2OU/s64/photo.jpg",
      "userId": "01399835024022498543"
     },
     "user_tz": -120
    },
    "id": "UV_HqhTEP4dJ",
    "outputId": "a69af27b-496b-48da-bd1c-c534a9a38a2d"
   },
   "outputs": [
    {
     "name": "stdout",
     "output_type": "stream",
     "text": [
      "[('Gn ', 'Gen. '), ('Genes.', 'Gen.'), ('Ex.', 'Exo.'), ('Lv.', 'Lev.'), ('Nm.', 'Num.'), ('Dt.', 'Deut'), ('I Sm.', '1Sam.'), ('1Sm.', '1Sam.'), ('1 Sam.', '1Sam.'), ('II Sm.', '2Sam.'), ('2 Sam.', '2Sam.'), ('Ios.', 'Josh.'), ('Idc.', 'Judg.'), ('Jdg.', 'Judg.'), ('1 Reg.', '1Kgs.'), ('II Reg.', '2Kgs.'), ('2 Reg.', '2Kgs.'), ('2 Rg.', '2Kgs.'), ('II Rg.', '2Kgs.'), ('2Rg.', '2Kgs.'), ('2 Ki.', '2Kgs.'), (' II Ki.', '2Kgs.'), ('I Reg.', '1Kgs.'), ('1 Rg.', '1Kgs.'), ('I Rg.', '1Kgs.'), ('1Rg.', '1Kgs.'), ('1 Ki.', '1Kgs.'), ('I Ki.', '1Kgs.'), ('2 Ch.', '2Chr.'), ('II Ch.', '2Chr.'), ('2 Chr.', '2Chr.'), ('II Chr.', '2Chr.'), ('2 Par.', '2Chr.'), ('II Par.', '2Chr.'), ('1 Ch.', '1Chr.'), ('I Ch.', '1Chr.'), ('1 Chr.', '1Chr.'), ('I Chr.', '1Chr.'), ('1 Par.', '1Chr.'), ('I Par.', '1Chr.'), ('Est.', 'Esth.'), ('Hiob', 'Job'), ('Iob', 'Job'), ('PB.', 'Psa.'), ('Psal.', 'Psa.'), ('Ps.', 'Psa.'), ('Ecc.', 'Eccl.'), ('Ecl.', 'Eccl.'), ('Prov.', 'Pro.'), ('Prou.', 'Pro.'), ('Prv.', 'Pro.'), ('Son.', 'Song.'), ('Cant.', 'Song.'), ('Can.', 'Song.'), ('Ca.', 'Song.'), ('Ct.', 'Song.'), ('Is.', 'Isa.'), ('Es.', 'Isa.'), ('Isah.', 'Isa.'), ('Ier.', 'Jer.'), ('Ir.', 'Jer.'), ('Ioel', 'Joel'), ('Joe.', 'Joel'), ('Amo.', 'Amos'), ('Oba.', 'Obad.'), ('Jon.', 'Jonah'), ('Zec.', 'Zech.'), ('Tob.', 'Tb.'), ('Idt.', 'Sap.'), ('Eccli.', 'Sir.'), ('II Mcc.', '2Mcc.'), ('I Mcc.', '1Mcc.'), ('Matth.', 'Matt.'), ('Mattli.', 'Matt.'), ('Mt.', 'Matt.'), ('Mk.', 'Mark'), ('Mc.', 'Mark'), ('Marc.', 'Mark'), ('Lk.', 'Luke'), ('Lc.', 'Luke'), ('Lnc.', 'Luke'), ('Luc.', 'Luke'), ('Joan.', 'John'), ('Joh.', 'John'), ('Ioh.', 'John'), ('Io.', 'John'), ('Act.', 'Acts'), ('2 Cor.', '2Cor.'), ('II \\\\(Jor.', '2Cor.'), ('II Cor.', '2Cor.'), ('I Cor.', '1Cor.'), ('1 Cor.', '1Cor.'), ('I \\\\(Jor.', '1Cor.'), ('Phlm', 'Phil.'), ('Phi.', 'Phil.'), ('Ephes.', 'Eph.'), ('Galat.', 'Gal.'), ('GaL ', 'Gal.'), ('2 Thess.', '2Thess.'), ('II Thess.', '2Thess.'), ('II Th.', '2Thess.'), ('2Thes.', '2Thess.'), ('1 Thess.', '1Thess.'), ('I Thess.', '1Thess.'), ('I Th.', '1Thess.'), ('1Thes.', '1Thess.'), ('II Tim.', '2Tim.'), ('2 Tim.', '2Tim.'), ('I Tim.', '1Tim.'), ('1 Tim.', '1Tim.'), ('Phm', 'Phlm'), ('Jam.', 'Jas.'), ('II Petro', '2Pet.'), ('II Petr.', '2Pet.'), ('2 Petr.', '2Pet.'), ('2 Pe.', '2Pet.'), ('II Pe.', '2Pet.'), ('2 Pt.', '2Pet.'), ('II Pt.', '2Pet.'), ('2 Pet.', '2Pet.'), ('II Pet.', '2Pet.'), ('I Petro', '1Pet.'), ('1 Petr.', '1Pet.'), ('I Petr.', '1Pet.'), ('1 Pe.', '1Pet.'), ('I Pe.', '1Pet.'), ('1 Pt.', '1Pet.'), ('I Pt.', '1Pet.'), ('1 Pet.', '1Pet.'), ('I Pet.', '1Pet.'), (' loh.', ' Ioh.'), (' lo.', ' Ioh.'), ('III Ioh.', '3John.'), ('III Io.', '3John.'), ('II Ioh.', '2John'), ('II Io.', '2John'), ('I Ioh.', '1John'), ('I Io.', '1John'), ('1 Jo.', '1John.'), ('2 Jo.', '2John.'), ('3 Jo.', '3John.'), ('1 John.', '1John.'), ('2 John.', '2John.'), ('3 John.', '3John.'), ('Iac.', 'Jas.'), ('lac.', 'Jas.'), ('Jac.', 'Jas.'), ('Iud.', 'Jud.'), ('Jud.', 'Jude'), ('Apc.', 'Rev.'), ('Apoc.', 'Rev.')]\n"
     ]
    }
   ],
   "source": [
    "### upload my own (VK) biblical abbreviatians as a tuple\n",
    "\n",
    "abbr_kase_df = get_as_dataframe(gc.open_by_url('https://docs.google.com/spreadsheets/d/1vWUsY1moh6b5A27YDxPSuibayXNLRUV97Hz9TICyBBo/edit?usp=sharing').worksheet(\"replace_abbr\"))\n",
    "repl_tuple_VK = list(abbr_kase_df.itertuples(index=False, name=None))\n",
    "print(repl_tuple_VK)"
   ]
  },
  {
   "cell_type": "code",
   "execution_count": 0,
   "metadata": {
    "colab": {
     "base_uri": "https://localhost:8080/",
     "height": 34
    },
    "colab_type": "code",
    "executionInfo": {
     "elapsed": 970,
     "status": "ok",
     "timestamp": 1556028596176,
     "user": {
      "displayName": "Vojtěch Kaše",
      "photoUrl": "https://lh5.googleusercontent.com/-uqMPkXXDAQA/AAAAAAAAAAI/AAAAAAAAIV0/l_yiWUkr2OU/s64/photo.jpg",
      "userId": "01399835024022498543"
     },
     "user_tz": -120
    },
    "id": "Qe0XcuzSP4iM",
    "outputId": "a2fd501d-79c6-415a-e0d8-97a5f52cd801"
   },
   "outputs": [
    {
     "data": {
      "text/plain": [
       "151"
      ]
     },
     "execution_count": 23,
     "metadata": {
      "tags": []
     },
     "output_type": "execute_result"
    }
   ],
   "source": [
    "### check their length\n",
    "len(repl_tuple_VK)"
   ]
  },
  {
   "cell_type": "code",
   "execution_count": 0,
   "metadata": {
    "colab": {
     "base_uri": "https://localhost:8080/",
     "height": 74
    },
    "colab_type": "code",
    "executionInfo": {
     "elapsed": 2886,
     "status": "ok",
     "timestamp": 1556028601541,
     "user": {
      "displayName": "Vojtěch Kaše",
      "photoUrl": "https://lh5.googleusercontent.com/-uqMPkXXDAQA/AAAAAAAAAAI/AAAAAAAAIV0/l_yiWUkr2OU/s64/photo.jpg",
      "userId": "01399835024022498543"
     },
     "user_tz": -120
    },
    "id": "Ytq2-f0SP4xW",
    "outputId": "49b691c5-cbd8-46c5-fc02-5847258ebfe3"
   },
   "outputs": [
    {
     "name": "stdout",
     "output_type": "stream",
     "text": [
      "[('Gen.', 'Gen.'), ('Genes.', 'Gen.'), ('Gon.', 'Gen.'), ('Qen.', 'Gen.'), ('Oen.', 'Gen.'), ('Ex.', 'Exo.'), ('Exod.', 'Exo.'), ('Ei.', 'Exo.'), ('E*.', 'Exo.'), ('Er.', 'Exo.'), ('EL', 'Exo.'), ('Eiod.', 'Exo.'), ('Ezod.', 'Exo.'), ('Levit.', 'Lev.'), ('Leuit.', 'Lev.'), ('Lev.', 'Lev.'), ('LeY.', 'Lev.'), ('Leu. ', 'Lev.'), ('Len.', 'Lev.'), ('Leoit.', 'Lev.'), ('Num.', 'Num.'), ('Nam.', 'Num.'), ('Nom.', 'Num.'), ('NUID.', 'Num.'), ('Nurn.', 'Num.'), ('NumBr.', 'Num.'), ('Nomer.', 'Num.'), ('Nuin.', 'Num.'), ('Deut.', 'Deut.'), ('Dent.', 'Deut.'), ('Deot.', 'Deut.'), ('Deat.', 'Deut.'), ('Deuteron.', 'Deut.'), ('Deuter.', 'Deut.'), ('Deuteroii.', 'Deut.'), ('Deater.', 'Deut.'), ('Uenter.', 'Deut.'), ('neuter.', 'Deut.'), ('Jos.', 'Josh.'), ('Ios.', 'Josh.'), ('los.', 'Josh.'), ('Jud.', 'Judg.'), ('Iud.', 'Judg.'), ('Ind.', 'Judg.'), ('Iad.', 'Judg.'), ('I Sam. ', '1Sam.'), ('II Sam.', '2Sam.'), ('I Reg.', '1Kgs.'), ('III Reg.', '1Kgs.'), ('m Beg.', '1Kgs.'), ('III Beg.', '1Kgs.'), ('in Reg.', '1Kgs.'), ('Regn, III', '1Kgs.'), ('Regn. III', '1Kgs.'), ('Kegn. III', '1Kgs.'), ('Regn. Itl', '1Kgs.'), ('II Reg.', '2Kgs.'), ('IU Beg.', '2Kgs.'), ('n Reg.', '2Kgs.'), ('II Beg.', '2Kgs.'), ('IV Beg.', '2Kgs.'), ('mi Reg.', '2Kgs.'), ('Regn. IV', '2Kgs.'), ('Regn. II', '2Kgs.'), ('Regii. II', '2Kgs.'), ('I Par. ', '1Chr.'), ('II Par.', '2Chr.'), ('II Para!.', '2Chr.'), ('II Paral.', '2Chr.'), ('n Par.', '2Chr.'), ('Paralip. II', '2Chr.'), ('Esdr.', 'Ezra'), ('Esra', 'Ezra'), ('Neh.', 'Neh.'), ('Nehem.', 'Neh.'), ('Tob.', 'Tb.'), ('Toh.', 'Tb.'), ('Judith', 'Idt.'), ('Esth.', 'Esth.'), ('Iob', 'Job'), ('lob.', 'Job'), ('Psalm.', 'Psa.'), ('Ps.', 'Psa.'), ('Pealm.', 'Psa.'), ('Paalm.', 'Psa.'), ('Pa.', 'Psa.'), ('Pe.', 'Psa.'), ('PB.', 'Psa.'), ('Pb.', 'Psa.'), ('PI.', 'Psa.'), ('PI.', 'Psa.'), ('PS.', 'Psa.'), ('Bs.', 'Psa.'), ('Pu.', 'Psa.'), ('Pi.', 'Psa.'), ('Psalra.', 'Psa.'), ('Psalrn.', 'Psa.'), ('pBalm.', 'Psa.'), ('Fsalm.', 'Psa.'), ('Psal.', 'Psa.'), ('Pial.', 'Psa.'), ('Paal.', 'Psa.'), ('Peal.', 'Psa.'), ('Fs.', 'Psa.'), ('Prov.', 'Pro.'), ('Prou.', 'Pro.'), ('Pror.', 'Pro.'), ('Provo', 'Pro.'), ('Proy.', 'Pro.'), ('ProY.', 'Pro.'), ('ProVe', 'Pro.'), ('ProT.', 'Pro.'), ('Prouerb.', 'Pro.'), ('Pron.', 'Pro.'), ('ProtL', 'Pro.'), ('Protu', 'Pro.'), ('PrJu.', 'Pro.'), ('Pruu.', 'Pro.'), ('Proaerb.', 'Pro.'), ('Eccle.', 'Eccl.'), ('Eccl.', 'Eccl.'), ('Eccles.', 'Eccl.'), ('Ecclel.', 'Eccl.'), ('EccleB.', 'Eccl.'), ('Esecb.', 'Eccl.'), ('Ecclet.', 'Eccl.'), ('Kccles.', 'Eccl.'), ('EccL', 'Eccl.'), ('EecL', 'Eccl.'), ('Eceli.', 'Eccl.'), ('Cant.', 'Song.'), ('Caut', 'Song.'), ('Cani.', 'Song.'), ('Sap.', 'Sap.'), ('sap.', 'Sap.'), ('Sapient.', 'Sap.'), ('Eccli.', 'Sir.'), ('Sir.', 'Sir.'), ('sir.', 'Sir.'), ('fcir.', 'Sir.'), ('Sirac.', 'Sir.'), ('Isai.', 'Isa.'), ('Esai. ', 'Isa.'), ('Es.', 'Isa.'), ('Beai.', 'Isa.'), ('Essai.', 'Isa.'), ('Eaai. ', 'Isa.'), ('Eeai.', 'Isa.'), ('Esaj. ', 'Isa.'), ('Es', 'Isa.'), ('Esoi.', 'Isa.'), ('Ewi.', 'Isa.'), ('aai.', 'Isa.'), ('Esal', 'Isa.'), ('Efwi.', 'Isa.'), ('Esaias', 'Isa.'), ('Elai. ', 'Isa.'), ('Ee.', 'Isa.'), ('Hier.', 'Jer.'), ('Hierem. ', 'Jer.'), ('ffier.', 'Jer.'), ('Thren.', 'Lam.'), ('Bar.', 'Bar.'), ('Barach', 'Bar.'), ('Baruch', 'Bar.'), ('Baracli', 'Bar.'), ('Ezech.', 'Eze.'), ('Ez. ', 'Eze.'), ('Etech.', 'Eze.'), ('Esech.', 'Eze.'), ('Bsech.', 'Eze.'), ('Eiecb.', 'Eze.'), ('Bzech.', 'Eze.'), ('Ewch.', 'Eze.'), ('Ezecb,', 'Eze.'), ('Dan.', 'Dan.'), ('Os. ', 'Hos.'), ('Osee', 'Hos.'), ('Os', 'Hos.'), ('Oa.', 'Hos.'), ('Hos.', 'Hos.'), ('Ioel.', 'Joel'), ('Ioel', 'Joel'), ('IoeL', 'Joel'), ('Am.', 'Amos'), ('Amos', 'Amos'), ('Amoa', 'Amos'), ('Amog', 'Amos'), ('Ion.', 'Jonah'), ('Mich.', 'Mic.'), ('Nah.', 'Nah.'), ('Nahum', 'Nah.'), ('Hab. ', 'Hab.'), ('Ab.', 'Hab.'), ('Habac. ', 'Hab.'), ('Soph.', 'Zeph.'), ('Sophon.', 'Zeph.'), ('Agg.', 'Hag.'), ('Zach.', 'Zech.'), ('Zacb.', 'Zech.'), ('Zachar.', 'Zech.'), ('Mal.', 'Mal.'), ('Malacb.', 'Mal.'), ('MaL', 'Mal.'), ('Malach.', 'Mal.'), ('I Macc.', '1Mcc.'), ('II Macc.', '2Mcc.'), ('II Maccab.', '2Mcc.'), ('11 Macc.', '2Mcc.'), ('Matth.', 'Matt.'), ('Mt. ', 'Matt.'), ('Kt.', 'Matt.'), ('Ht.', 'Matt.'), ('Ot.', 'Matt.'), ('Matfch.', 'Matt.'), ('Mattb.', 'Matt.'), ('Iatth.', 'Matt.'), ('MattL', 'Matt.'), ('Uatth.', 'Matt.'), ('Mstth.', 'Matt.'), ('Mattli.', 'Matt.'), ('Hatth.', 'Matt.'), ('Marc.', 'Mark'), ('Harc.', 'Mark'), ('Mare.', 'Mark'), ('Luc. ', 'Luke'), ('Lnc.', 'Luke'), ('Lac.', 'Luke'), ('Lue.', 'Luke'), ('Loc. ', 'Luke'), ('Lao.', 'Luke'), ('Ioh.', 'John'), ('Io.', 'John'), ('Ioh.', 'John'), ('10.', 'John'), ('loh.', 'John'), ('Ioli.', 'John'), ('Ioann.', 'John'), ('Act.', 'Acts'), ('Acti.', 'Acts'), ('Art.', 'Acts'), ('Aet,', 'Acts'), ('Aot.', 'Acts'), ('Aet.', 'Acts'), ('Rom.', 'Rom.'), ('Bom. ', 'Rom.'), ('Kom.', 'Rom.'), ('Romam.', 'Rom.'), ('Rora.', 'Rom.'), ('Eom.', 'Rom.'), ('ltom.', 'Rom.'), ('I Cor.', '1Cor.'), ('1 Cor. ', '1Cor.'), ('Cor. I', '1Cor.'), ('ICor.', '1Cor.'), ('I Coi.', '1Cor.'), ('Corinth. I', '1Cor.'), ('I Corinth.', '1Cor.'), ('I Oor.', '1Cor.'), ('I Eur.', '1Cor.'), ('II Cor.', '2Cor.'), ('n Cor.', '2Cor.'), ('U Cor.', '2Cor.'), ('II Cur.', '2Cor.'), ('H Cor.', '2Cor.'), ('Cor. II', '2Cor.'), ('Cor. n', '2Cor.'), ('Corinth. II', '2Cor.'), ('Gal.', 'Gal.'), ('GaL.', 'Gal.'), ('GhIL', 'Gal.'), ('Gftl.', 'Gal.'), ('Oal.', 'Gal.'), ('Eph.', 'Eph.'), ('Ephes.', 'Eph.'), ('Ephea.', 'Eph.'), ('Epb.', 'Eph.'), ('Phil.', 'Phil.'), ('Philip.', 'Phil.'), ('PhIL', 'Phil.'), ('Pbil.', 'Phil.'), ('PhiL', 'Phil.'), ('Phn.', 'Phil.'), ('Philipp.', 'Phil.'), ('Col.', 'Col.'), ('CoL', 'Col.'), ('Coloss.', 'Col.'), ('I Thess.', '1Thess.'), ('I Tbess.', '1Thess.'), ('I Tbess.', '1Thess.'), ('I Thesa.', '1Thess.'), ('I Then.', '1Thess.'), ('I Theas.', '1Thess.'), ('Thessal. I', '1Thess.'), ('II Thess.', '2Thess.'), ('n Theas.', '2Thess.'), ('II Thesa.', '2Thess.'), ('n Thess.', '2Thess.'), ('H Thess.', '2Thess.'), ('I Tim.', '1Tim.'), ('ITim.', '1Tim.'), ('I Tiin.', '1Tim.'), ('Timotb. I', '1Tim.'), ('Tiraoth. I', '1Tim.'), ('Timoth. I', '1Tim.'), ('II Tim.', '2Tim.'), ('n Tim.', '2Tim.'), ('Timoth. II', '2Tim.'), ('Tim. II', '2Tim.'), ('Tit.', 'Tit.'), ('Philem.', 'Phlm.'), ('Hebr.', 'Heb.'), ('Hcbr.', 'Heb.'), ('Iac.', 'Jas.'), ('Iafc', 'Jas.'), ('Iac.', 'Jas.'), ('lac.', 'Jas.'), ('Iacob.', 'Jas.'), ('I Petr. ', '1Pet.'), ('I Petro', '1Pet.'), ('IPet.', '1Pet.'), ('I Pet.', '1Pet.'), ('I Pefc.', '1Pet.'), ('lPetr.', '1Pet.'), ('Petro I', '1Pet.'), ('Petr. I', '1Pet.'), ('II Petr.', '2Pet.'), ('II Petro', '2Pet.'), ('H Pet.', '2Pet.'), ('Petro H', '2Pet.'), ('Petro II', '2Pet.'), ('I Ioh.', '1John'), ('I lob.', '1John'), ('1 Ioh.', '1John'), ('I Iok', '1John'), ('I Io.', '1John'), ('II Ioh.', '2John'), ('Ioh. II', '2John'), ('Iuh. II', '2John'), ('III Ioh.', '3John'), ('Epist. Iudae', 'Jude'), ('Ep. Iudae', 'Jude'), ('Apoc.', 'Rev.'), ('Apoo.', 'Rev.'), ('Apocal.', 'Rev.'), ('Apec.', 'Rev.'), ('Apoe.', 'Rev.'), ('Susanna', 'Sus.')]\n"
     ]
    }
   ],
   "source": [
    "### upload abbreviatians variants as defined by Mr. Kuben (into a dataframe)\n",
    "abbr_kuben = get_as_dataframe(gc.open_by_url(\"https://docs.google.com/spreadsheets/d/15_acFNFaTUgTW4DODk4hdMcgvGeyQlTbx783gTrEXhI/edit?usp=sharing\").worksheet(\"List 1\"))\n",
    "### upload the biblical abbr converter (from DZ)\n",
    "abbr_conv_df = get_as_dataframe(gc.open_by_key(\"1byVbRwnQ058--0ud1_NBt2xgIhuiV7LK1BmCm67CTxA\").worksheet(\"AbbrevConverter\"))\n",
    "\n",
    "\n",
    "### use the converter to transform Mr. Kuben's abbrevatians into the tuple format with \"CSEL_VK\"\n",
    "repl_tuple_JK = []\n",
    "for row in abbr_kuben.values.tolist(): \n",
    "  if row[0]>0: ### i.e. if it has valid (i.e. numerical) index value\n",
    "    replaced_abbr = abbr_conv_df.loc[abbr_conv_df[\"Book_ID\"]==float(row[0]), \"CSEL_VK\"].values[0]\n",
    "    for element in row[2:]: ### for each cell on the row\n",
    "      if \"nan\" not in str(element): ### i.e. if the cell content is not \"nan\" \n",
    "        tuple_pair = (element, replaced_abbr)\n",
    "        repl_tuple_JK.append(tuple_pair)\n",
    "print(repl_tuple_JK)\n",
    "\n"
   ]
  },
  {
   "cell_type": "code",
   "execution_count": 0,
   "metadata": {
    "colab": {
     "base_uri": "https://localhost:8080/",
     "height": 34
    },
    "colab_type": "code",
    "executionInfo": {
     "elapsed": 499,
     "status": "ok",
     "timestamp": 1556028604074,
     "user": {
      "displayName": "Vojtěch Kaše",
      "photoUrl": "https://lh5.googleusercontent.com/-uqMPkXXDAQA/AAAAAAAAAAI/AAAAAAAAIV0/l_yiWUkr2OU/s64/photo.jpg",
      "userId": "01399835024022498543"
     },
     "user_tz": -120
    },
    "id": "kk5CmCr72k1f",
    "outputId": "b343407a-1ae9-4335-8f70-9de47e8e91df"
   },
   "outputs": [
    {
     "data": {
      "text/plain": [
       "348"
      ]
     },
     "execution_count": 25,
     "metadata": {
      "tags": []
     },
     "output_type": "execute_result"
    }
   ],
   "source": [
    "### number of abbr as defined by Mr. Kuben\n",
    "len(repl_tuple_JK)"
   ]
  },
  {
   "cell_type": "code",
   "execution_count": 0,
   "metadata": {
    "colab": {
     "base_uri": "https://localhost:8080/",
     "height": 34
    },
    "colab_type": "code",
    "executionInfo": {
     "elapsed": 602,
     "status": "ok",
     "timestamp": 1556028637984,
     "user": {
      "displayName": "Vojtěch Kaše",
      "photoUrl": "https://lh5.googleusercontent.com/-uqMPkXXDAQA/AAAAAAAAAAI/AAAAAAAAIV0/l_yiWUkr2OU/s64/photo.jpg",
      "userId": "01399835024022498543"
     },
     "user_tz": -120
    },
    "id": "23DgmlT03eMe",
    "outputId": "24d8aac1-10ab-4ef5-e6ab-8a2881890353"
   },
   "outputs": [
    {
     "data": {
      "text/plain": [
       "454"
      ]
     },
     "execution_count": 27,
     "metadata": {
      "tags": []
     },
     "output_type": "execute_result"
    }
   ],
   "source": [
    "### combinqtion of VK's and JK's abbrs\n",
    "\n",
    "repl_tuple_all = repl_tuple_VK.copy()\n",
    "for tuple_pair in repl_tuple_JK:\n",
    "  if tuple_pair not in repl_tuple_all:\n",
    "    repl_tuple_all.append(tuple_pair)\n",
    "len(repl_tuple_all)"
   ]
  },
  {
   "cell_type": "code",
   "execution_count": 0,
   "metadata": {
    "colab": {},
    "colab_type": "code",
    "id": "I8uMDy7QrS6f"
   },
   "outputs": [],
   "source": [
    "### FUNCTION: replace Roman numbers with arabic\n",
    "\n",
    "def roman_to_int(n):\n",
    "    n = str(n.upper())\n",
    "    numeral_map = zip(\n",
    "        (1000, 900, 500, 400, 100, 90, 50, 40, 10, 9, 5, 4, 1),\n",
    "        ('M', 'CM', 'D', 'CD', 'C', 'XC', 'L', 'XL', 'X', 'IX', 'V', 'IV', 'I')\n",
    "    )\n",
    "    i = 0\n",
    "    result = 0\n",
    "    for integer, numeral in numeral_map:\n",
    "        while n[i:i + len(numeral)] == numeral:\n",
    "            result += integer\n",
    "            i += len(numeral)  \n",
    "    return result\n",
    "  \n",
    "# go throug every note one by one\n",
    "def find_all_abbr_data(dataframe, repl_tuple, expand):\n",
    "  expand_ranges = expand ### set to False if you dont like expanded data\n",
    "  bib_abbr = []\n",
    "  abbrs_ = [element.replace(\" \", \"_\") for element in [tup[0] for tup in repl_tuple]]\n",
    "  abbrs_final = [tup[1] for tup in repl_tuple]\n",
    "  for file_name, author, title, text in zip(dataframe[\"file_name\"], dataframe[\"author\"], dataframe[\"title\"], dataframe[\"text\"]):\n",
    "      # remove residua of our older regex application\n",
    "      for element, abbr_ in zip([tup[0] for tup in repl_tuple], abbrs_):\n",
    "        text = text.replace(element, abbr_)\n",
    "      author_text_split = text.split()\n",
    "      # find all matches between words in the text and abbr. of biblical books\n",
    "      for num, word in enumerate(author_text_split):\n",
    "          if word in abbrs_:\n",
    "              word = word.replace(\"_\", \" \") # change it back into the original form\n",
    "              word_plus_one = author_text_split[num+1]\n",
    "              word_plus_two = author_text_split[num+2]\n",
    "              word_minus_one = author_text_split[num-1]\n",
    "              try: ### sometimes the third word is not available, probably because of the end of the document\n",
    "                word_plus_three = author_text_split[num+3]\n",
    "                words_original = \" \".join([word, word_plus_one, word_plus_two, word_plus_three])\n",
    "              except:\n",
    "                words_original = \" \".join([word, word_plus_one, word_plus_two])\n",
    "              for element in repl_tuple:\n",
    "                if word == element[0]:\n",
    "                  word = element[1]\n",
    "                  break\n",
    "              export_for_TH = \" \".join([word, word_plus_one, word_plus_two])\n",
    "              if (word_plus_one == \"cap.\") or (word_plus_one == \"c.\"):\n",
    "                  word_plus_one = author_text_split[num+2]\n",
    "                  word_plus_two = author_text_split[num+3]\n",
    "              try: ### identify any roman number in chapters and replace them by arabic\n",
    "                  found = re.search(r'(^(?=[MDCLXVI])M*(C[MD]|D?C{0,3})(X[CL]|L?X{0,3})(I[XV]|V?I{0,3})(\\b))', word_plus_one, flags=re.IGNORECASE).groups()[0]\n",
    "                  if not found == \"\":\n",
    "                      word_plus_one = word_plus_one.replace(found, str(roman_to_int(found)))\n",
    "              except:\n",
    "                  pass\n",
    "              try: \n",
    "                  chapterverse = re.search('(\\d+)(\\.|\\,|\\:)(\\d+)', word_plus_one, flags=re.IGNORECASE).groups()\n",
    "                  word_plus_one = chapterverse[0]\n",
    "                  word_plus_two = chapterverse[2]\n",
    "              except:\n",
    "                  pass\n",
    "              if not word_plus_one[0].isdigit():\n",
    "                  word_plus_one = \"\"\n",
    "                  precision_type = \"no_chapter_\"\n",
    "              else:\n",
    "                  word_plus_one = re.search(r'(\\d+)', word_plus_one, flags=re.IGNORECASE).groups()[0]\n",
    "                  precision_type = \"chapter_\"\n",
    "              if word_plus_two.startswith(\"v.\"):\n",
    "                  word_plus_two.replace(\"v.\", \"\")\n",
    "              if not word_plus_two[0].isdigit():\n",
    "                  word_plus_two = \"\"\n",
    "                  precision_type = precision_type + \"no_verse\"\n",
    "              else:\n",
    "                  word_plus_two = re.search(r'((\\d+)(\\-\\d+)?)', word_plus_two, flags=re.IGNORECASE).groups()[0]\n",
    "                  precision_type = precision_type + \"verse\"\n",
    "              try: ### there is some problem, making this not applicable to all rows\n",
    "                genre = abbr_conv_df.loc[abbr_conv_df[\"CSEL_VK\"]==word, \"Classification_genre_DZ1\"].values[0]\n",
    "                testament = abbr_conv_df.loc[abbr_conv_df[\"CSEL_VK\"]==word, \"Classification_testament\"].values[0]\n",
    "                czech = abbr_conv_df.loc[abbr_conv_df[\"CSEL_VK\"]==word, \"Czech\"].values[0]\n",
    "              except:\n",
    "                pass\n",
    "              if word_minus_one.lower() == \"cf.\":\n",
    "                  citation_or_allusion = \"a\"\n",
    "              else:\n",
    "                  citation_or_allusion = \"c\"\n",
    "              more_verses = re.match(r'(\\d+)(\\-)(\\d+)', word_plus_two)\n",
    "              ### to match instances with more verses (Gen. 5.7-14)\n",
    "              if more_verses is not None:\n",
    "                beginning = int(more_verses.groups()[0])    \n",
    "                end = int(more_verses.groups()[2])\n",
    "                words_modified = \"_\".join([word.replace(\".\",\"\").lower(), word_plus_one, str(beginning) + \"to\" + str(end)])  \n",
    "                if expand_ranges == True:\n",
    "                    beginning = int(more_verses.groups()[0])\n",
    "                    end = int(more_verses.groups()[2])\n",
    "                    words_modified = \"_\".join([word.replace(\".\",\"\").lower(), word_plus_one, str(beginning) + \"to\" + str(end)])\n",
    "                    actual_verse = beginning\n",
    "                    while (actual_verse <= end):\n",
    "                      bib_abbr.append([file_name, author, title, word_minus_one, words_original, export_for_TH, citation_or_allusion, words_modified, \"ranged\", precision_type, word, word_plus_one, actual_verse, beginning, end, czech, genre, testament])                 \n",
    "                      actual_verse = actual_verse + 1\n",
    "                else:\n",
    "                    bib_abbr.append([file_name, author, title, word_minus_one, words_original, export_for_TH, citation_or_allusion, words_modified, \"ranged\", precision_type, word, word_plus_one, str(beginning) + \"-\" + str(end), beginning, end, czech, genre, testament])                 \n",
    "              else:\n",
    "                  words_modified = \"_\".join([word.replace(\".\",\"\").lower(), word_plus_one, word_plus_two])\n",
    "                  bib_abbr.append([file_name, author, title, word_minus_one, words_original, export_for_TH, citation_or_allusion, words_modified, \"single\", precision_type, word, word_plus_one, word_plus_two, None, None, czech, genre, testament])                 \n",
    "  bib_abbr_df = pd.DataFrame(bib_abbr, columns=[\"file_name\", \"author\", \"Work\", \"word_before\", \"words_original\", \"text_as_found\", \"Citation_or_allusion\", \"condenced_expression\", \"Composite_type\", \"completion?\", \"CSEL_VK\", \"chapter\", \"verse\", \"range_firstverse\", \"range_lastverse\", \"Czech\", \"Classification_genre_DZ1\", \"Classification_testament\"])   \n",
    "  return bib_abbr_df"
   ]
  },
  {
   "cell_type": "code",
   "execution_count": 0,
   "metadata": {
    "colab": {},
    "colab_type": "code",
    "id": "Ki7Dq3lWtLNr"
   },
   "outputs": [],
   "source": [
    "###start communicate with the google sheet\n",
    "sh = gc.open_by_url('https://docs.google.com/spreadsheets/d/1vWUsY1moh6b5A27YDxPSuibayXNLRUV97Hz9TICyBBo/edit?usp=sharing')\n"
   ]
  },
  {
   "cell_type": "code",
   "execution_count": 0,
   "metadata": {
    "colab": {
     "base_uri": "https://localhost:8080/",
     "height": 34
    },
    "colab_type": "code",
    "executionInfo": {
     "elapsed": 161631,
     "status": "ok",
     "timestamp": 1556039930241,
     "user": {
      "displayName": "Vojtěch Kaše",
      "photoUrl": "https://lh5.googleusercontent.com/-uqMPkXXDAQA/AAAAAAAAAAI/AAAAAAAAIV0/l_yiWUkr2OU/s64/photo.jpg",
      "userId": "01399835024022498543"
     },
     "user_tz": -120
    },
    "id": "c9vJZVU89Lrg",
    "outputId": "9eadf890-0e4a-404e-bd89-89152d37c447"
   },
   "outputs": [
    {
     "data": {
      "text/plain": [
       "58542"
      ]
     },
     "execution_count": 82,
     "metadata": {
      "tags": []
     },
     "output_type": "execute_result"
    }
   ],
   "source": [
    "### to produce data in a condense form, i.e. without expanded ranges\n",
    "\n",
    "CSEL_abbr_NEW = find_all_abbr_data(CSEL_raw_df, repl_tuple_JK, False)\n",
    "len(CSEL_abbr_NEW)"
   ]
  },
  {
   "cell_type": "code",
   "execution_count": 0,
   "metadata": {
    "colab": {},
    "colab_type": "code",
    "id": "ACzrGEjklItp"
   },
   "outputs": [],
   "source": [
    "sh.add_worksheet(title=\"CSEL_abbr_APR23\", rows=1, cols=10)\n",
    "set_with_dataframe(sh.worksheet(\"CSEL_abbr_APR23\"), CSEL_abbr_NEW)"
   ]
  },
  {
   "cell_type": "code",
   "execution_count": 0,
   "metadata": {
    "colab": {
     "base_uri": "https://localhost:8080/",
     "height": 34
    },
    "colab_type": "code",
    "executionInfo": {
     "elapsed": 160150,
     "status": "ok",
     "timestamp": 1556042148585,
     "user": {
      "displayName": "Vojtěch Kaše",
      "photoUrl": "https://lh5.googleusercontent.com/-uqMPkXXDAQA/AAAAAAAAAAI/AAAAAAAAIV0/l_yiWUkr2OU/s64/photo.jpg",
      "userId": "01399835024022498543"
     },
     "user_tz": -120
    },
    "id": "psmrMzfj0SOf",
    "outputId": "ea1df92c-ed71-4c0a-d80d-c621c86846e8"
   },
   "outputs": [
    {
     "data": {
      "text/plain": [
       "72586"
      ]
     },
     "execution_count": 90,
     "metadata": {
      "tags": []
     },
     "output_type": "execute_result"
    }
   ],
   "source": [
    "### to produce data in an expanded form, i.e. with ranges\n",
    "\n",
    "CSEL_abbr_NEW_expanded = find_all_abbr_data(CSEL_raw_df, repl_tuple_JK, True)\n",
    "len(CSEL_abbr_NEW_expanded)"
   ]
  },
  {
   "cell_type": "code",
   "execution_count": 0,
   "metadata": {
    "colab": {},
    "colab_type": "code",
    "id": "wxeUk3gI0vj0"
   },
   "outputs": [],
   "source": [
    "sh.add_worksheet(title=\"CSEL_abbr_APR23_expanded\", rows=1, cols=10)\n",
    "set_with_dataframe(sh.worksheet(\"CSEL_abbr_APR23_expanded\"), CSEL_abbr_NEW_expanded)"
   ]
  },
  {
   "cell_type": "code",
   "execution_count": 0,
   "metadata": {
    "colab": {},
    "colab_type": "code",
    "id": "pMFgewSU4PSD"
   },
   "outputs": [],
   "source": []
  }
 ],
 "metadata": {
  "colab": {
   "collapsed_sections": [
    "Qfr3M6I-7Kb3",
    "WprDgVJ2aTAI",
    "zheztakp7Kl8",
    "iT1Z3VRZ7Kp7",
    "GT2EgJ0o7Kqf",
    "XqaFdy817KrS",
    "LOQbk2ii7Ksz",
    "UsBAmUWhaTCK"
   ],
   "name": "3.3_LAST.ipynb",
   "provenance": [],
   "version": "0.3.2"
  },
  "kernelspec": {
   "display_name": "Python 3",
   "language": "python",
   "name": "python3"
  },
  "language_info": {
   "codemirror_mode": {
    "name": "ipython",
    "version": 3
   },
   "file_extension": ".py",
   "mimetype": "text/x-python",
   "name": "python",
   "nbconvert_exporter": "python",
   "pygments_lexer": "ipython3",
   "version": "3.6.9"
  }
 },
 "nbformat": 4,
 "nbformat_minor": 1
}
